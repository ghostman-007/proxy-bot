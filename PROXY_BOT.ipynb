{
 "cells": [
  {
   "cell_type": "code",
   "execution_count": null,
   "metadata": {},
   "outputs": [],
   "source": [
    "from selenium import webdriver\n",
    "from selenium.common.exceptions import NoSuchElementException, WebDriverException\n",
    "from selenium.webdriver.common.by import By\n",
    "from selenium.webdriver.support.ui import WebDriverWait\n",
    "from selenium.webdriver.support import expected_conditions as EC\n",
    "from selenium.webdriver.common.keys import Keys\n",
    "from time import sleep"
   ]
  },
  {
   "cell_type": "markdown",
   "metadata": {},
   "source": [
    "### • Change chromedriver path, profile path and Meet Code Accordingly"
   ]
  },
  {
   "cell_type": "code",
   "execution_count": null,
   "metadata": {},
   "outputs": [],
   "source": [
    "driver_path = r'C:\\Users\\Ghostman\\_PROJECT\\VirtualClass\\chromedriver.exe'\n",
    "options = webdriver.ChromeOptions()\n",
    "options.add_argument(\"user-data-dir=C:\\\\Users\\\\Ghostman\\\\AppData\\\\Local\\\\Google\\\\Chrome\\\\User Data\\\\Profile 2\")\n",
    "driver = webdriver.Chrome(executable_path=driver_path, options=options)\n",
    "driver.get(\"https://meet.google.com/zxr-fvjr-pnm\")"
   ]
  },
  {
   "cell_type": "code",
   "execution_count": null,
   "metadata": {},
   "outputs": [],
   "source": [
    "sleep(5)"
   ]
  },
  {
   "cell_type": "markdown",
   "metadata": {},
   "source": [
    "### MICROPHONE DISABLE"
   ]
  },
  {
   "cell_type": "code",
   "execution_count": null,
   "metadata": {},
   "outputs": [],
   "source": [
    "# Make mic disabled\n",
    "mic_enabled = driver.find_element_by_class_name('U26fgb.JRY2Pb.mUbCce.kpROve.uJNmj.HNeRed.QmxbVb')\n",
    "mic_enabled.click()"
   ]
  },
  {
   "cell_type": "markdown",
   "metadata": {},
   "source": [
    "### VIDEO DISABLE"
   ]
  },
  {
   "cell_type": "code",
   "execution_count": null,
   "metadata": {},
   "outputs": [],
   "source": [
    "# Make video disabled\n",
    "vid_enabled = driver.find_element_by_class_name('U26fgb.JRY2Pb.mUbCce.kpROve.uJNmj.HNeRed.QmxbVb')\n",
    "vid_enabled.click()"
   ]
  },
  {
   "cell_type": "markdown",
   "metadata": {},
   "source": [
    "### WAITING FOR CLASS TO START"
   ]
  },
  {
   "cell_type": "markdown",
   "metadata": {},
   "source": [
    "### • Change Meeting time Accordingly (use 24-hour clock format)"
   ]
  },
  {
   "cell_type": "code",
   "execution_count": null,
   "metadata": {},
   "outputs": [],
   "source": [
    "from datetime import datetime, time\n",
    "from time import sleep\n",
    "\n",
    "def wait_start(runTime):\n",
    "    startTime = time(*(map(int, runTime.split(':'))))\n",
    "    while startTime > datetime.today().time():\n",
    "        sleep(1)\n",
    "\n",
    "wait_start('8:33')"
   ]
  },
  {
   "cell_type": "markdown",
   "metadata": {},
   "source": [
    "### JOIN MEETING"
   ]
  },
  {
   "cell_type": "code",
   "execution_count": null,
   "metadata": {},
   "outputs": [],
   "source": [
    "# Click on \"Ask to Join\" button\n",
    "ask_to_join = driver.find_element_by_class_name('uArJ5e.UQuaGc.Y5sE8d.uyXBBb.xKiqt')\n",
    "ask_to_join.click()\n",
    "print(ask_to_join)"
   ]
  },
  {
   "cell_type": "markdown",
   "metadata": {},
   "source": [
    "### ENTER ROLL NUMBER"
   ]
  },
  {
   "cell_type": "code",
   "execution_count": null,
   "metadata": {},
   "outputs": [],
   "source": [
    "# Click on Message Button\n",
    "sleep(5)\n",
    "flag = False\n",
    "while(1):\n",
    "    try:\n",
    "        flag = False\n",
    "        msg = driver.find_element_by_class_name('uArJ5e.UQuaGc.kCyAyd.QU4Gid.foXzLb')\n",
    "    except NoSuchElementException:\n",
    "        check = driver.find_elements_by_class_name('cMgZMe')\n",
    "        for i in check:\n",
    "            print(i.text)\n",
    "            if \"You'll join the call when someone lets you in\" in i.text:\n",
    "                flag = True\n",
    "                sleep(3)\n",
    "            elif \"No one responded to your request to join the call\" in i.text:\n",
    "                import os\n",
    "                import sys\n",
    "                print(\"I should restart this file\")\n",
    "                #os.startfile(__file__)\n",
    "                #os.startfile(sys.argv[0])\n",
    "                #sys.exit()\n",
    "            else:\n",
    "                flag = False\n",
    "                break\n",
    "    else:      \n",
    "        if not flag:\n",
    "            break\n",
    "msg.click()"
   ]
  },
  {
   "cell_type": "code",
   "execution_count": null,
   "metadata": {},
   "outputs": [],
   "source": [
    "# Click on Chat Button\n",
    "sleep(5)\n",
    "chat = driver.find_element_by_class_name('ThdJC.kaAt2.c0XF8e.s7PhZd.sVoT0c.diMUPd.zCU1Sc')\n",
    "chat.click()"
   ]
  },
  {
   "cell_type": "code",
   "execution_count": null,
   "metadata": {},
   "outputs": [],
   "source": [
    "# Check for roll number inputs\n",
    "from IPython.display import clear_output\n",
    "\n",
    "while(1):\n",
    "    clear_output(wait=True)\n",
    "    roll_nos = driver.find_elements_by_class_name(\"oIy2qc\")\n",
    "    flag = False\n",
    "    for i in roll_nos:\n",
    "        print(i.text)\n",
    "        if \"51810062\" in i.text:\n",
    "            flag = True\n",
    "    #break    # testing\n",
    "    if flag:\n",
    "        break\n",
    "    sleep(1)"
   ]
  },
  {
   "cell_type": "markdown",
   "metadata": {},
   "source": [
    "### • Change Message"
   ]
  },
  {
   "cell_type": "code",
   "execution_count": null,
   "metadata": {},
   "outputs": [],
   "source": [
    "# Click on text box and then on send button\n",
    "sleep(1)\n",
    "msg_box = driver.find_element_by_class_name('KHxj8b.tL9Q4c')\n",
    "msg_box.click()\n",
    "msg_box.clear()\n",
    "msg_box.send_keys(\"51810066\")\n",
    "send_msg = driver.find_element_by_class_name('uArJ5e.Y5FYJe.cjq2Db.IOMpW.Cs0vCd')\n",
    "send_msg.click()"
   ]
  },
  {
   "cell_type": "code",
   "execution_count": null,
   "metadata": {
    "scrolled": false
   },
   "outputs": [],
   "source": [
    "# Click to bring call button and then click on leave call button\n",
    "sleep(1)\n",
    "while(1):\n",
    "    no_of_people = driver.find_element_by_class_name(\"rua5Nb\")\n",
    "    n = int(no_of_people.text[1:-1])\n",
    "    if n < 5:\n",
    "        try:\n",
    "            call_popup = driver.find_element_by_class_name('xsj2Ff.Zf0RDc.PoIECb.GskdZ.vLRPrf.AwnI1b')\n",
    "            call_popup.click()\n",
    "        except NoSuchElementException:\n",
    "            pass\n",
    "        leave_call = driver.find_element_by_class_name('s1GInc.zCbbgf')\n",
    "        leave_call.click()\n",
    "        break"
   ]
  },
  {
   "cell_type": "code",
   "execution_count": null,
   "metadata": {},
   "outputs": [],
   "source": [
    "driver.quit()"
   ]
  },
  {
   "cell_type": "code",
   "execution_count": null,
   "metadata": {},
   "outputs": [],
   "source": []
  }
 ],
 "metadata": {
  "kernelspec": {
   "display_name": "Python 3",
   "language": "python",
   "name": "python3"
  },
  "language_info": {
   "codemirror_mode": {
    "name": "ipython",
    "version": 3
   },
   "file_extension": ".py",
   "mimetype": "text/x-python",
   "name": "python",
   "nbconvert_exporter": "python",
   "pygments_lexer": "ipython3",
   "version": "3.7.4"
  }
 },
 "nbformat": 4,
 "nbformat_minor": 4
}
